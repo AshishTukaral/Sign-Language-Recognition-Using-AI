{
 "cells": [
  {
   "cell_type": "code",
   "execution_count": 5,
   "id": "67ec6cd0",
   "metadata": {
    "scrolled": true
   },
   "outputs": [
    {
     "name": "stdout",
     "output_type": "stream",
     "text": [
      "WARNING:tensorflow:From C:\\Users\\hp\\anaconda3\\Lib\\site-packages\\keras\\src\\losses.py:2976: The name tf.losses.sparse_softmax_cross_entropy is deprecated. Please use tf.compat.v1.losses.sparse_softmax_cross_entropy instead.\n",
      "\n"
     ]
    }
   ],
   "source": [
    "import csv\n",
    "\n",
    "import numpy as np\n",
    "import tensorflow as tf\n",
    "from sklearn.model_selection import train_test_split\n",
    "\n",
    "RANDOM_SEED = 42"
   ]
  },
  {
   "cell_type": "code",
   "execution_count": 24,
   "id": "128f1f7e",
   "metadata": {},
   "outputs": [],
   "source": [
    "dataset = 'C:/Users/hp/PycharmProjects/pythonProject2/all_1.csv'\n",
    "model_save_path = 'keypoint_classifier_1.hdf5'"
   ]
  },
  {
   "cell_type": "code",
   "execution_count": 25,
   "id": "cafeaf1b",
   "metadata": {},
   "outputs": [],
   "source": [
    "NUM_CLASSES = 20"
   ]
  },
  {
   "cell_type": "code",
   "execution_count": 49,
   "id": "05bd50f4",
   "metadata": {},
   "outputs": [],
   "source": [
    "import pandas as pd\n",
    "\n",
    "df=pd.read_csv('C:/Users/hp/PycharmProjects/pythonProject2/all_1.csv')"
   ]
  },
  {
   "cell_type": "code",
   "execution_count": 50,
   "id": "94ab7088",
   "metadata": {
    "scrolled": false
   },
   "outputs": [
    {
     "data": {
      "text/html": [
       "<div>\n",
       "<style scoped>\n",
       "    .dataframe tbody tr th:only-of-type {\n",
       "        vertical-align: middle;\n",
       "    }\n",
       "\n",
       "    .dataframe tbody tr th {\n",
       "        vertical-align: top;\n",
       "    }\n",
       "\n",
       "    .dataframe thead th {\n",
       "        text-align: right;\n",
       "    }\n",
       "</style>\n",
       "<table border=\"1\" class=\"dataframe\">\n",
       "  <thead>\n",
       "    <tr style=\"text-align: right;\">\n",
       "      <th></th>\n",
       "      <th>0</th>\n",
       "      <th>0.0</th>\n",
       "      <th>0.0.1</th>\n",
       "      <th>0.22099447513812154</th>\n",
       "      <th>0.027624309392265192</th>\n",
       "      <th>0.4419889502762431</th>\n",
       "      <th>-0.04419889502762431</th>\n",
       "      <th>0.5580110497237569</th>\n",
       "      <th>-0.16574585635359115</th>\n",
       "      <th>0.569060773480663</th>\n",
       "      <th>...</th>\n",
       "      <th>0.9060773480662984</th>\n",
       "      <th>-0.569060773480663</th>\n",
       "      <th>0.3701657458563536</th>\n",
       "      <th>-0.4198895027624309.1</th>\n",
       "      <th>0.5414364640883977.1</th>\n",
       "      <th>-0.5193370165745856</th>\n",
       "      <th>0.6464088397790055</th>\n",
       "      <th>-0.574585635359116</th>\n",
       "      <th>0.7403314917127072</th>\n",
       "      <th>-0.6077348066298343</th>\n",
       "    </tr>\n",
       "  </thead>\n",
       "  <tbody>\n",
       "    <tr>\n",
       "      <th>0</th>\n",
       "      <td>0</td>\n",
       "      <td>0.0</td>\n",
       "      <td>0.0</td>\n",
       "      <td>0.066667</td>\n",
       "      <td>-0.205556</td>\n",
       "      <td>0.233333</td>\n",
       "      <td>-0.350000</td>\n",
       "      <td>0.383333</td>\n",
       "      <td>-0.394444</td>\n",
       "      <td>0.438889</td>\n",
       "      <td>...</td>\n",
       "      <td>1.000000</td>\n",
       "      <td>-0.416667</td>\n",
       "      <td>0.555556</td>\n",
       "      <td>-0.066667</td>\n",
       "      <td>0.738889</td>\n",
       "      <td>-0.127778</td>\n",
       "      <td>0.844444</td>\n",
       "      <td>-0.183333</td>\n",
       "      <td>0.922222</td>\n",
       "      <td>-0.238889</td>\n",
       "    </tr>\n",
       "    <tr>\n",
       "      <th>1</th>\n",
       "      <td>0</td>\n",
       "      <td>0.0</td>\n",
       "      <td>0.0</td>\n",
       "      <td>0.204420</td>\n",
       "      <td>0.011050</td>\n",
       "      <td>0.414365</td>\n",
       "      <td>-0.066298</td>\n",
       "      <td>0.530387</td>\n",
       "      <td>-0.176796</td>\n",
       "      <td>0.541436</td>\n",
       "      <td>...</td>\n",
       "      <td>0.922652</td>\n",
       "      <td>-0.546961</td>\n",
       "      <td>0.414365</td>\n",
       "      <td>-0.386740</td>\n",
       "      <td>0.580110</td>\n",
       "      <td>-0.486188</td>\n",
       "      <td>0.679558</td>\n",
       "      <td>-0.541436</td>\n",
       "      <td>0.767956</td>\n",
       "      <td>-0.580110</td>\n",
       "    </tr>\n",
       "    <tr>\n",
       "      <th>2</th>\n",
       "      <td>0</td>\n",
       "      <td>0.0</td>\n",
       "      <td>0.0</td>\n",
       "      <td>0.221622</td>\n",
       "      <td>0.027027</td>\n",
       "      <td>0.432432</td>\n",
       "      <td>-0.048649</td>\n",
       "      <td>0.535135</td>\n",
       "      <td>-0.172973</td>\n",
       "      <td>0.508108</td>\n",
       "      <td>...</td>\n",
       "      <td>0.897297</td>\n",
       "      <td>-0.535135</td>\n",
       "      <td>0.383784</td>\n",
       "      <td>-0.400000</td>\n",
       "      <td>0.545946</td>\n",
       "      <td>-0.491892</td>\n",
       "      <td>0.648649</td>\n",
       "      <td>-0.545946</td>\n",
       "      <td>0.740541</td>\n",
       "      <td>-0.578378</td>\n",
       "    </tr>\n",
       "    <tr>\n",
       "      <th>3</th>\n",
       "      <td>0</td>\n",
       "      <td>0.0</td>\n",
       "      <td>0.0</td>\n",
       "      <td>0.211640</td>\n",
       "      <td>0.026455</td>\n",
       "      <td>0.423280</td>\n",
       "      <td>-0.047619</td>\n",
       "      <td>0.544974</td>\n",
       "      <td>-0.158730</td>\n",
       "      <td>0.555556</td>\n",
       "      <td>...</td>\n",
       "      <td>0.899471</td>\n",
       "      <td>-0.513228</td>\n",
       "      <td>0.396825</td>\n",
       "      <td>-0.386243</td>\n",
       "      <td>0.555556</td>\n",
       "      <td>-0.470899</td>\n",
       "      <td>0.656085</td>\n",
       "      <td>-0.523810</td>\n",
       "      <td>0.751323</td>\n",
       "      <td>-0.566138</td>\n",
       "    </tr>\n",
       "    <tr>\n",
       "      <th>4</th>\n",
       "      <td>0</td>\n",
       "      <td>0.0</td>\n",
       "      <td>0.0</td>\n",
       "      <td>0.169399</td>\n",
       "      <td>-0.027322</td>\n",
       "      <td>0.371585</td>\n",
       "      <td>-0.114754</td>\n",
       "      <td>0.502732</td>\n",
       "      <td>-0.202186</td>\n",
       "      <td>0.557377</td>\n",
       "      <td>...</td>\n",
       "      <td>0.939891</td>\n",
       "      <td>-0.469945</td>\n",
       "      <td>0.437158</td>\n",
       "      <td>-0.300546</td>\n",
       "      <td>0.606557</td>\n",
       "      <td>-0.377049</td>\n",
       "      <td>0.704918</td>\n",
       "      <td>-0.437158</td>\n",
       "      <td>0.792350</td>\n",
       "      <td>-0.491803</td>\n",
       "    </tr>\n",
       "  </tbody>\n",
       "</table>\n",
       "<p>5 rows × 43 columns</p>\n",
       "</div>"
      ],
      "text/plain": [
       "   0  0.0  0.0.1  0.22099447513812154  0.027624309392265192  \\\n",
       "0  0  0.0    0.0             0.066667             -0.205556   \n",
       "1  0  0.0    0.0             0.204420              0.011050   \n",
       "2  0  0.0    0.0             0.221622              0.027027   \n",
       "3  0  0.0    0.0             0.211640              0.026455   \n",
       "4  0  0.0    0.0             0.169399             -0.027322   \n",
       "\n",
       "   0.4419889502762431  -0.04419889502762431  0.5580110497237569  \\\n",
       "0            0.233333             -0.350000            0.383333   \n",
       "1            0.414365             -0.066298            0.530387   \n",
       "2            0.432432             -0.048649            0.535135   \n",
       "3            0.423280             -0.047619            0.544974   \n",
       "4            0.371585             -0.114754            0.502732   \n",
       "\n",
       "   -0.16574585635359115  0.569060773480663  ...  0.9060773480662984  \\\n",
       "0             -0.394444           0.438889  ...            1.000000   \n",
       "1             -0.176796           0.541436  ...            0.922652   \n",
       "2             -0.172973           0.508108  ...            0.897297   \n",
       "3             -0.158730           0.555556  ...            0.899471   \n",
       "4             -0.202186           0.557377  ...            0.939891   \n",
       "\n",
       "   -0.569060773480663  0.3701657458563536  -0.4198895027624309.1  \\\n",
       "0           -0.416667            0.555556              -0.066667   \n",
       "1           -0.546961            0.414365              -0.386740   \n",
       "2           -0.535135            0.383784              -0.400000   \n",
       "3           -0.513228            0.396825              -0.386243   \n",
       "4           -0.469945            0.437158              -0.300546   \n",
       "\n",
       "   0.5414364640883977.1  -0.5193370165745856  0.6464088397790055  \\\n",
       "0              0.738889            -0.127778            0.844444   \n",
       "1              0.580110            -0.486188            0.679558   \n",
       "2              0.545946            -0.491892            0.648649   \n",
       "3              0.555556            -0.470899            0.656085   \n",
       "4              0.606557            -0.377049            0.704918   \n",
       "\n",
       "   -0.574585635359116  0.7403314917127072  -0.6077348066298343  \n",
       "0           -0.183333            0.922222            -0.238889  \n",
       "1           -0.541436            0.767956            -0.580110  \n",
       "2           -0.545946            0.740541            -0.578378  \n",
       "3           -0.523810            0.751323            -0.566138  \n",
       "4           -0.437158            0.792350            -0.491803  \n",
       "\n",
       "[5 rows x 43 columns]"
      ]
     },
     "execution_count": 50,
     "metadata": {},
     "output_type": "execute_result"
    }
   ],
   "source": [
    "df.head()"
   ]
  },
  {
   "cell_type": "code",
   "execution_count": 51,
   "id": "ce45473f",
   "metadata": {},
   "outputs": [
    {
     "data": {
      "text/plain": [
       "0\n",
       "11    3839\n",
       "16    2829\n",
       "14    2112\n",
       "4     1920\n",
       "2     1649\n",
       "10    1567\n",
       "19    1545\n",
       "13    1345\n",
       "15    1338\n",
       "7     1312\n",
       "3     1256\n",
       "9     1246\n",
       "1     1200\n",
       "18    1186\n",
       "12    1137\n",
       "5     1131\n",
       "6     1129\n",
       "0     1093\n",
       "8     1077\n",
       "17    1016\n",
       "Name: count, dtype: int64"
      ]
     },
     "execution_count": 51,
     "metadata": {},
     "output_type": "execute_result"
    }
   ],
   "source": [
    "df['0'].value_counts()"
   ]
  },
  {
   "cell_type": "code",
   "execution_count": 52,
   "id": "a67345f3",
   "metadata": {},
   "outputs": [],
   "source": [
    "x=df.drop('0',axis=1)\n",
    "y=df['0']"
   ]
  },
  {
   "cell_type": "code",
   "execution_count": 53,
   "id": "9fbf4b2b",
   "metadata": {},
   "outputs": [
    {
     "data": {
      "text/plain": [
       "(30927, 42)"
      ]
     },
     "execution_count": 53,
     "metadata": {},
     "output_type": "execute_result"
    }
   ],
   "source": [
    "x.shape"
   ]
  },
  {
   "cell_type": "code",
   "execution_count": 54,
   "id": "b2fd7389",
   "metadata": {},
   "outputs": [
    {
     "data": {
      "text/plain": [
       "(30927,)"
      ]
     },
     "execution_count": 54,
     "metadata": {},
     "output_type": "execute_result"
    }
   ],
   "source": [
    "y.shape"
   ]
  },
  {
   "cell_type": "code",
   "execution_count": 55,
   "id": "f4084036",
   "metadata": {},
   "outputs": [
    {
     "data": {
      "text/plain": [
       "(42,)"
      ]
     },
     "execution_count": 55,
     "metadata": {},
     "output_type": "execute_result"
    }
   ],
   "source": [
    "x.iloc[0].shape"
   ]
  },
  {
   "cell_type": "code",
   "execution_count": null,
   "id": "99937254",
   "metadata": {},
   "outputs": [],
   "source": []
  },
  {
   "cell_type": "code",
   "execution_count": 56,
   "id": "7baf42bd",
   "metadata": {},
   "outputs": [],
   "source": [
    "X_train, X_test, y_train, y_test = train_test_split(x, y, train_size=0.8, random_state=RANDOM_SEED)"
   ]
  },
  {
   "cell_type": "code",
   "execution_count": 57,
   "id": "d57a43c0",
   "metadata": {},
   "outputs": [
    {
     "data": {
      "text/plain": [
       "(24741, 42)"
      ]
     },
     "execution_count": 57,
     "metadata": {},
     "output_type": "execute_result"
    }
   ],
   "source": [
    "X_train.shape"
   ]
  },
  {
   "cell_type": "code",
   "execution_count": 58,
   "id": "3ecb399f",
   "metadata": {},
   "outputs": [
    {
     "data": {
      "text/plain": [
       "(24741,)"
      ]
     },
     "execution_count": 58,
     "metadata": {},
     "output_type": "execute_result"
    }
   ],
   "source": [
    "y_train.shape"
   ]
  },
  {
   "cell_type": "code",
   "execution_count": 59,
   "id": "5ebc94c3",
   "metadata": {},
   "outputs": [],
   "source": [
    "model = tf.keras.models.Sequential([\n",
    "    tf.keras.layers.Input((42, )),\n",
    "    tf.keras.layers.Dropout(0.2),\n",
    "    tf.keras.layers.Dense(120, activation='relu'),\n",
    "    tf.keras.layers.Dropout(0.2),\n",
    "    tf.keras.layers.Dense(120, activation='relu'),\n",
    "    tf.keras.layers.Dropout(0.2),\n",
    "    tf.keras.layers.Dense(120, activation='relu'),\n",
    "    tf.keras.layers.Dropout(0.2),\n",
    "    tf.keras.layers.Dense(120, activation='relu'),\n",
    "    tf.keras.layers.Dropout(0.2),\n",
    "    tf.keras.layers.Dense(120, activation='relu'),\n",
    "    tf.keras.layers.Dropout(0.2),\n",
    "    tf.keras.layers.Dense(120, activation='relu'),\n",
    "    tf.keras.layers.Dense(NUM_CLASSES, activation='softmax')\n",
    "])"
   ]
  },
  {
   "cell_type": "code",
   "execution_count": 60,
   "id": "e497c68f",
   "metadata": {},
   "outputs": [
    {
     "name": "stdout",
     "output_type": "stream",
     "text": [
      "Model: \"sequential_2\"\n",
      "_________________________________________________________________\n",
      " Layer (type)                Output Shape              Param #   \n",
      "=================================================================\n",
      " dropout_21 (Dropout)        (None, 42)                0         \n",
      "                                                                 \n",
      " dense_27 (Dense)            (None, 120)               5160      \n",
      "                                                                 \n",
      " dropout_22 (Dropout)        (None, 120)               0         \n",
      "                                                                 \n",
      " dense_28 (Dense)            (None, 120)               14520     \n",
      "                                                                 \n",
      " dropout_23 (Dropout)        (None, 120)               0         \n",
      "                                                                 \n",
      " dense_29 (Dense)            (None, 120)               14520     \n",
      "                                                                 \n",
      " dropout_24 (Dropout)        (None, 120)               0         \n",
      "                                                                 \n",
      " dense_30 (Dense)            (None, 120)               14520     \n",
      "                                                                 \n",
      " dropout_25 (Dropout)        (None, 120)               0         \n",
      "                                                                 \n",
      " dense_31 (Dense)            (None, 120)               14520     \n",
      "                                                                 \n",
      " dropout_26 (Dropout)        (None, 120)               0         \n",
      "                                                                 \n",
      " dense_32 (Dense)            (None, 120)               14520     \n",
      "                                                                 \n",
      " dense_33 (Dense)            (None, 20)                2420      \n",
      "                                                                 \n",
      "=================================================================\n",
      "Total params: 80180 (313.20 KB)\n",
      "Trainable params: 80180 (313.20 KB)\n",
      "Non-trainable params: 0 (0.00 Byte)\n",
      "_________________________________________________________________\n"
     ]
    }
   ],
   "source": [
    "model.summary()  # tf.keras.utils.plot_model(model, show_shapes=True)"
   ]
  },
  {
   "cell_type": "code",
   "execution_count": 61,
   "id": "0a5c0ac2",
   "metadata": {},
   "outputs": [],
   "source": [
    "\n",
    "cp_callback = tf.keras.callbacks.ModelCheckpoint(\n",
    "    model_save_path, verbose=1, save_weights_only=False)\n",
    "\n",
    "es_callback = tf.keras.callbacks.EarlyStopping(patience=20, verbose=1)"
   ]
  },
  {
   "cell_type": "code",
   "execution_count": 62,
   "id": "4d246cc9",
   "metadata": {},
   "outputs": [],
   "source": [
    "model.compile(\n",
    "    optimizer='adam',\n",
    "    loss='sparse_categorical_crossentropy',\n",
    "    metrics=['accuracy']\n",
    ")"
   ]
  },
  {
   "cell_type": "code",
   "execution_count": 63,
   "id": "3601effd",
   "metadata": {},
   "outputs": [
    {
     "name": "stdout",
     "output_type": "stream",
     "text": [
      "Epoch 1/1000\n",
      "190/194 [============================>.] - ETA: 0s - loss: 1.8500 - accuracy: 0.3547\n",
      "Epoch 1: saving model to keypoint_classifier_1.hdf5\n",
      "194/194 [==============================] - 5s 12ms/step - loss: 1.8390 - accuracy: 0.3584 - val_loss: 0.8451 - val_accuracy: 0.6880\n",
      "Epoch 2/1000\n",
      " 14/194 [=>............................] - ETA: 1s - loss: 1.2320 - accuracy: 0.5519"
     ]
    },
    {
     "name": "stderr",
     "output_type": "stream",
     "text": [
      "C:\\Users\\hp\\anaconda3\\Lib\\site-packages\\keras\\src\\engine\\training.py:3103: UserWarning: You are saving your model as an HDF5 file via `model.save()`. This file format is considered legacy. We recommend using instead the native Keras format, e.g. `model.save('my_model.keras')`.\n",
      "  saving_api.save_model(\n"
     ]
    },
    {
     "name": "stdout",
     "output_type": "stream",
     "text": [
      "191/194 [============================>.] - ETA: 0s - loss: 1.0631 - accuracy: 0.6032\n",
      "Epoch 2: saving model to keypoint_classifier_1.hdf5\n",
      "194/194 [==============================] - 2s 10ms/step - loss: 1.0622 - accuracy: 0.6034 - val_loss: 0.5653 - val_accuracy: 0.8130\n",
      "Epoch 3/1000\n",
      "189/194 [============================>.] - ETA: 0s - loss: 0.8783 - accuracy: 0.6799\n",
      "Epoch 3: saving model to keypoint_classifier_1.hdf5\n",
      "194/194 [==============================] - 2s 10ms/step - loss: 0.8781 - accuracy: 0.6798 - val_loss: 0.4520 - val_accuracy: 0.8678\n",
      "Epoch 4/1000\n",
      "191/194 [============================>.] - ETA: 0s - loss: 0.7915 - accuracy: 0.7134\n",
      "Epoch 4: saving model to keypoint_classifier_1.hdf5\n",
      "194/194 [==============================] - 2s 10ms/step - loss: 0.7909 - accuracy: 0.7139 - val_loss: 0.3932 - val_accuracy: 0.8980\n",
      "Epoch 5/1000\n",
      "193/194 [============================>.] - ETA: 0s - loss: 0.7341 - accuracy: 0.7378\n",
      "Epoch 5: saving model to keypoint_classifier_1.hdf5\n",
      "194/194 [==============================] - 2s 10ms/step - loss: 0.7342 - accuracy: 0.7378 - val_loss: 0.3495 - val_accuracy: 0.8959\n",
      "Epoch 6/1000\n",
      "191/194 [============================>.] - ETA: 0s - loss: 0.6888 - accuracy: 0.7563\n",
      "Epoch 6: saving model to keypoint_classifier_1.hdf5\n",
      "194/194 [==============================] - 2s 10ms/step - loss: 0.6886 - accuracy: 0.7567 - val_loss: 0.3580 - val_accuracy: 0.8876\n",
      "Epoch 7/1000\n",
      "190/194 [============================>.] - ETA: 0s - loss: 0.6579 - accuracy: 0.7674\n",
      "Epoch 7: saving model to keypoint_classifier_1.hdf5\n",
      "194/194 [==============================] - 2s 11ms/step - loss: 0.6570 - accuracy: 0.7678 - val_loss: 0.3294 - val_accuracy: 0.9014\n",
      "Epoch 8/1000\n",
      "193/194 [============================>.] - ETA: 0s - loss: 0.6337 - accuracy: 0.7768\n",
      "Epoch 8: saving model to keypoint_classifier_1.hdf5\n",
      "194/194 [==============================] - 2s 11ms/step - loss: 0.6338 - accuracy: 0.7767 - val_loss: 0.3100 - val_accuracy: 0.9045\n",
      "Epoch 9/1000\n",
      "191/194 [============================>.] - ETA: 0s - loss: 0.6158 - accuracy: 0.7828\n",
      "Epoch 9: saving model to keypoint_classifier_1.hdf5\n",
      "194/194 [==============================] - 2s 10ms/step - loss: 0.6159 - accuracy: 0.7828 - val_loss: 0.2924 - val_accuracy: 0.9319\n",
      "Epoch 10/1000\n",
      "189/194 [============================>.] - ETA: 0s - loss: 0.6035 - accuracy: 0.7896\n",
      "Epoch 10: saving model to keypoint_classifier_1.hdf5\n",
      "194/194 [==============================] - 2s 10ms/step - loss: 0.6022 - accuracy: 0.7904 - val_loss: 0.2703 - val_accuracy: 0.9318\n",
      "Epoch 11/1000\n",
      "190/194 [============================>.] - ETA: 0s - loss: 0.5816 - accuracy: 0.7973\n",
      "Epoch 11: saving model to keypoint_classifier_1.hdf5\n",
      "194/194 [==============================] - 2s 9ms/step - loss: 0.5824 - accuracy: 0.7972 - val_loss: 0.2712 - val_accuracy: 0.9297\n",
      "Epoch 12/1000\n",
      "189/194 [============================>.] - ETA: 0s - loss: 0.5740 - accuracy: 0.7996\n",
      "Epoch 12: saving model to keypoint_classifier_1.hdf5\n",
      "194/194 [==============================] - 2s 9ms/step - loss: 0.5719 - accuracy: 0.8007 - val_loss: 0.2688 - val_accuracy: 0.9279\n",
      "Epoch 13/1000\n",
      "192/194 [============================>.] - ETA: 0s - loss: 0.5550 - accuracy: 0.8095\n",
      "Epoch 13: saving model to keypoint_classifier_1.hdf5\n",
      "194/194 [==============================] - 2s 9ms/step - loss: 0.5539 - accuracy: 0.8098 - val_loss: 0.2406 - val_accuracy: 0.9353\n",
      "Epoch 14/1000\n",
      "192/194 [============================>.] - ETA: 0s - loss: 0.5228 - accuracy: 0.8211\n",
      "Epoch 14: saving model to keypoint_classifier_1.hdf5\n",
      "194/194 [==============================] - 2s 9ms/step - loss: 0.5229 - accuracy: 0.8211 - val_loss: 0.2598 - val_accuracy: 0.9151\n",
      "Epoch 15/1000\n",
      "190/194 [============================>.] - ETA: 0s - loss: 0.5101 - accuracy: 0.8233\n",
      "Epoch 15: saving model to keypoint_classifier_1.hdf5\n",
      "194/194 [==============================] - 2s 10ms/step - loss: 0.5093 - accuracy: 0.8233 - val_loss: 0.2411 - val_accuracy: 0.9253\n",
      "Epoch 16/1000\n",
      "187/194 [===========================>..] - ETA: 0s - loss: 0.5017 - accuracy: 0.8264\n",
      "Epoch 16: saving model to keypoint_classifier_1.hdf5\n",
      "194/194 [==============================] - 2s 10ms/step - loss: 0.5015 - accuracy: 0.8262 - val_loss: 0.2462 - val_accuracy: 0.9266\n",
      "Epoch 17/1000\n",
      "193/194 [============================>.] - ETA: 0s - loss: 0.4828 - accuracy: 0.8357\n",
      "Epoch 17: saving model to keypoint_classifier_1.hdf5\n",
      "194/194 [==============================] - 2s 10ms/step - loss: 0.4825 - accuracy: 0.8358 - val_loss: 0.2160 - val_accuracy: 0.9454\n",
      "Epoch 18/1000\n",
      "191/194 [============================>.] - ETA: 0s - loss: 0.4719 - accuracy: 0.8377\n",
      "Epoch 18: saving model to keypoint_classifier_1.hdf5\n",
      "194/194 [==============================] - 2s 10ms/step - loss: 0.4725 - accuracy: 0.8378 - val_loss: 0.2238 - val_accuracy: 0.9311\n",
      "Epoch 19/1000\n",
      "193/194 [============================>.] - ETA: 0s - loss: 0.4595 - accuracy: 0.8481\n",
      "Epoch 19: saving model to keypoint_classifier_1.hdf5\n",
      "194/194 [==============================] - 2s 10ms/step - loss: 0.4597 - accuracy: 0.8480 - val_loss: 0.2118 - val_accuracy: 0.9426\n",
      "Epoch 20/1000\n",
      "190/194 [============================>.] - ETA: 0s - loss: 0.4509 - accuracy: 0.8464\n",
      "Epoch 20: saving model to keypoint_classifier_1.hdf5\n",
      "194/194 [==============================] - 2s 10ms/step - loss: 0.4510 - accuracy: 0.8465 - val_loss: 0.2464 - val_accuracy: 0.9130\n",
      "Epoch 21/1000\n",
      "193/194 [============================>.] - ETA: 0s - loss: 0.4467 - accuracy: 0.8474\n",
      "Epoch 21: saving model to keypoint_classifier_1.hdf5\n",
      "194/194 [==============================] - 2s 10ms/step - loss: 0.4466 - accuracy: 0.8473 - val_loss: 0.2331 - val_accuracy: 0.9311\n",
      "Epoch 22/1000\n",
      "190/194 [============================>.] - ETA: 0s - loss: 0.4323 - accuracy: 0.8547\n",
      "Epoch 22: saving model to keypoint_classifier_1.hdf5\n",
      "194/194 [==============================] - 2s 10ms/step - loss: 0.4323 - accuracy: 0.8546 - val_loss: 0.2370 - val_accuracy: 0.9256\n",
      "Epoch 23/1000\n",
      "188/194 [============================>.] - ETA: 0s - loss: 0.4260 - accuracy: 0.8554\n",
      "Epoch 23: saving model to keypoint_classifier_1.hdf5\n",
      "194/194 [==============================] - 2s 10ms/step - loss: 0.4249 - accuracy: 0.8555 - val_loss: 0.2092 - val_accuracy: 0.9415\n",
      "Epoch 24/1000\n",
      "191/194 [============================>.] - ETA: 0s - loss: 0.4138 - accuracy: 0.8599\n",
      "Epoch 24: saving model to keypoint_classifier_1.hdf5\n",
      "194/194 [==============================] - 2s 10ms/step - loss: 0.4150 - accuracy: 0.8597 - val_loss: 0.2283 - val_accuracy: 0.9284\n",
      "Epoch 25/1000\n",
      "189/194 [============================>.] - ETA: 0s - loss: 0.4104 - accuracy: 0.8621\n",
      "Epoch 25: saving model to keypoint_classifier_1.hdf5\n",
      "194/194 [==============================] - 2s 10ms/step - loss: 0.4101 - accuracy: 0.8619 - val_loss: 0.2252 - val_accuracy: 0.9214\n",
      "Epoch 26/1000\n",
      "187/194 [===========================>..] - ETA: 0s - loss: 0.4042 - accuracy: 0.8660\n",
      "Epoch 26: saving model to keypoint_classifier_1.hdf5\n",
      "194/194 [==============================] - 2s 10ms/step - loss: 0.4041 - accuracy: 0.8658 - val_loss: 0.2360 - val_accuracy: 0.9150\n",
      "Epoch 27/1000\n",
      "189/194 [============================>.] - ETA: 0s - loss: 0.3867 - accuracy: 0.8714\n",
      "Epoch 27: saving model to keypoint_classifier_1.hdf5\n",
      "194/194 [==============================] - 2s 11ms/step - loss: 0.3862 - accuracy: 0.8714 - val_loss: 0.2522 - val_accuracy: 0.9106\n",
      "Epoch 28/1000\n",
      "191/194 [============================>.] - ETA: 0s - loss: 0.3887 - accuracy: 0.8707\n",
      "Epoch 28: saving model to keypoint_classifier_1.hdf5\n",
      "194/194 [==============================] - 2s 11ms/step - loss: 0.3886 - accuracy: 0.8706 - val_loss: 0.2517 - val_accuracy: 0.9083\n",
      "Epoch 29/1000\n",
      "190/194 [============================>.] - ETA: 0s - loss: 0.3786 - accuracy: 0.8745\n",
      "Epoch 29: saving model to keypoint_classifier_1.hdf5\n",
      "194/194 [==============================] - 2s 10ms/step - loss: 0.3794 - accuracy: 0.8741 - val_loss: 0.2155 - val_accuracy: 0.9328\n",
      "Epoch 30/1000\n",
      "193/194 [============================>.] - ETA: 0s - loss: 0.3762 - accuracy: 0.8747\n",
      "Epoch 30: saving model to keypoint_classifier_1.hdf5\n",
      "194/194 [==============================] - 2s 10ms/step - loss: 0.3761 - accuracy: 0.8747 - val_loss: 0.2104 - val_accuracy: 0.9287\n"
     ]
    },
    {
     "name": "stdout",
     "output_type": "stream",
     "text": [
      "Epoch 31/1000\n",
      "189/194 [============================>.] - ETA: 0s - loss: 0.3714 - accuracy: 0.8762\n",
      "Epoch 31: saving model to keypoint_classifier_1.hdf5\n",
      "194/194 [==============================] - 2s 10ms/step - loss: 0.3710 - accuracy: 0.8764 - val_loss: 0.2549 - val_accuracy: 0.9069\n",
      "Epoch 32/1000\n",
      "192/194 [============================>.] - ETA: 0s - loss: 0.3613 - accuracy: 0.8804\n",
      "Epoch 32: saving model to keypoint_classifier_1.hdf5\n",
      "194/194 [==============================] - 2s 10ms/step - loss: 0.3611 - accuracy: 0.8804 - val_loss: 0.2279 - val_accuracy: 0.9264\n",
      "Epoch 33/1000\n",
      "188/194 [============================>.] - ETA: 0s - loss: 0.3567 - accuracy: 0.8803\n",
      "Epoch 33: saving model to keypoint_classifier_1.hdf5\n",
      "194/194 [==============================] - 2s 11ms/step - loss: 0.3574 - accuracy: 0.8801 - val_loss: 0.2169 - val_accuracy: 0.9287\n",
      "Epoch 34/1000\n",
      "194/194 [==============================] - ETA: 0s - loss: 0.3519 - accuracy: 0.8850\n",
      "Epoch 34: saving model to keypoint_classifier_1.hdf5\n",
      "194/194 [==============================] - 2s 10ms/step - loss: 0.3519 - accuracy: 0.8850 - val_loss: 0.2197 - val_accuracy: 0.9240\n",
      "Epoch 35/1000\n",
      "193/194 [============================>.] - ETA: 0s - loss: 0.3535 - accuracy: 0.8845\n",
      "Epoch 35: saving model to keypoint_classifier_1.hdf5\n",
      "194/194 [==============================] - 2s 10ms/step - loss: 0.3534 - accuracy: 0.8845 - val_loss: 0.2228 - val_accuracy: 0.9252\n",
      "Epoch 36/1000\n",
      "189/194 [============================>.] - ETA: 0s - loss: 0.3476 - accuracy: 0.8846\n",
      "Epoch 36: saving model to keypoint_classifier_1.hdf5\n",
      "194/194 [==============================] - 2s 11ms/step - loss: 0.3471 - accuracy: 0.8845 - val_loss: 0.2431 - val_accuracy: 0.9145\n",
      "Epoch 37/1000\n",
      "189/194 [============================>.] - ETA: 0s - loss: 0.3422 - accuracy: 0.8881\n",
      "Epoch 37: saving model to keypoint_classifier_1.hdf5\n",
      "194/194 [==============================] - 2s 11ms/step - loss: 0.3414 - accuracy: 0.8882 - val_loss: 0.2746 - val_accuracy: 0.9003\n",
      "Epoch 38/1000\n",
      "194/194 [==============================] - ETA: 0s - loss: 0.3351 - accuracy: 0.8893\n",
      "Epoch 38: saving model to keypoint_classifier_1.hdf5\n",
      "194/194 [==============================] - 2s 11ms/step - loss: 0.3351 - accuracy: 0.8893 - val_loss: 0.2163 - val_accuracy: 0.9248\n",
      "Epoch 39/1000\n",
      "193/194 [============================>.] - ETA: 0s - loss: 0.3328 - accuracy: 0.8905\n",
      "Epoch 39: saving model to keypoint_classifier_1.hdf5\n",
      "194/194 [==============================] - 2s 10ms/step - loss: 0.3329 - accuracy: 0.8904 - val_loss: 0.2637 - val_accuracy: 0.9022\n",
      "Epoch 40/1000\n",
      "193/194 [============================>.] - ETA: 0s - loss: 0.3354 - accuracy: 0.8887\n",
      "Epoch 40: saving model to keypoint_classifier_1.hdf5\n",
      "194/194 [==============================] - 2s 10ms/step - loss: 0.3350 - accuracy: 0.8888 - val_loss: 0.2667 - val_accuracy: 0.8969\n",
      "Epoch 41/1000\n",
      "191/194 [============================>.] - ETA: 0s - loss: 0.3154 - accuracy: 0.8953\n",
      "Epoch 41: saving model to keypoint_classifier_1.hdf5\n",
      "194/194 [==============================] - 2s 10ms/step - loss: 0.3148 - accuracy: 0.8957 - val_loss: 0.2157 - val_accuracy: 0.9284\n",
      "Epoch 42/1000\n",
      "190/194 [============================>.] - ETA: 0s - loss: 0.3276 - accuracy: 0.8935\n",
      "Epoch 42: saving model to keypoint_classifier_1.hdf5\n",
      "194/194 [==============================] - 2s 10ms/step - loss: 0.3274 - accuracy: 0.8936 - val_loss: 0.2192 - val_accuracy: 0.9331\n",
      "Epoch 43/1000\n",
      "193/194 [============================>.] - ETA: 0s - loss: 0.3257 - accuracy: 0.8944\n",
      "Epoch 43: saving model to keypoint_classifier_1.hdf5\n",
      "194/194 [==============================] - 2s 11ms/step - loss: 0.3257 - accuracy: 0.8943 - val_loss: 0.2534 - val_accuracy: 0.9134\n",
      "Epoch 43: early stopping\n"
     ]
    },
    {
     "data": {
      "text/plain": [
       "<keras.src.callbacks.History at 0x23950d5c590>"
      ]
     },
     "execution_count": 63,
     "metadata": {},
     "output_type": "execute_result"
    }
   ],
   "source": [
    "model.fit(\n",
    "    X_train,\n",
    "    y_train,\n",
    "    epochs=1000,\n",
    "    batch_size=128,\n",
    "    validation_data=(X_test, y_test),\n",
    "    callbacks=[cp_callback, es_callback]\n",
    ")"
   ]
  },
  {
   "cell_type": "code",
   "execution_count": 64,
   "id": "9854697d",
   "metadata": {},
   "outputs": [
    {
     "name": "stdout",
     "output_type": "stream",
     "text": [
      "49/49 [==============================] - 0s 4ms/step - loss: 0.2534 - accuracy: 0.9134\n"
     ]
    }
   ],
   "source": [
    "\n",
    "val_loss, val_acc = model.evaluate(X_test, y_test, batch_size=128)"
   ]
  },
  {
   "cell_type": "code",
   "execution_count": 65,
   "id": "f53b95b1",
   "metadata": {},
   "outputs": [],
   "source": [
    "from sklearn.metrics import confusion_matrix, classification_report"
   ]
  },
  {
   "cell_type": "code",
   "execution_count": 66,
   "id": "14087c21",
   "metadata": {},
   "outputs": [
    {
     "name": "stdout",
     "output_type": "stream",
     "text": [
      "194/194 [==============================] - 1s 3ms/step\n"
     ]
    }
   ],
   "source": [
    "y_pred=model.predict(X_test)"
   ]
  },
  {
   "cell_type": "code",
   "execution_count": 67,
   "id": "da62b8c8",
   "metadata": {},
   "outputs": [
    {
     "data": {
      "text/plain": [
       "array([[4.8840125e-12, 9.3438679e-10, 1.8087649e-05, ..., 5.5565441e-04,\n",
       "        3.8576871e-04, 1.9791526e-06],\n",
       "       [5.2363588e-13, 5.7111448e-11, 5.5401933e-06, ..., 2.8167464e-04,\n",
       "        2.6041703e-04, 5.2855034e-07],\n",
       "       [1.7401511e-08, 3.0404745e-10, 2.8701820e-06, ..., 9.5261494e-06,\n",
       "        4.5966141e-02, 5.2895950e-04],\n",
       "       ...,\n",
       "       [3.2683796e-09, 7.1463248e-05, 3.5900221e-06, ..., 9.6162581e-01,\n",
       "        2.0254467e-05, 3.4028501e-06],\n",
       "       [4.2550768e-22, 0.0000000e+00, 1.1816930e-27, ..., 0.0000000e+00,\n",
       "        1.3926038e-18, 3.1237886e-21],\n",
       "       [4.8190067e-04, 7.7585605e-07, 1.9361440e-03, ..., 1.0337021e-06,\n",
       "        7.0431376e-08, 1.3894942e-05]], dtype=float32)"
      ]
     },
     "execution_count": 67,
     "metadata": {},
     "output_type": "execute_result"
    }
   ],
   "source": [
    "y_pred"
   ]
  },
  {
   "cell_type": "code",
   "execution_count": 29,
   "id": "029e3e1b",
   "metadata": {},
   "outputs": [
    {
     "name": "stdout",
     "output_type": "stream",
     "text": [
      "[[195   0   0   2   0   0   0   0   0   0   0   0   0   0   0   0   0   0\n",
      "    0   0]\n",
      " [  0 196   0   0   0   0   0   0   0  32   0   0   0   0   0   0   0   0\n",
      "    0   0]\n",
      " [  0   0 207   0   0   2   0   0   0   0   0   0   3   0   0   0   0   0\n",
      "    1 129]\n",
      " [  0   0   0 252   0   0   0   0   0   0   0   0   0   0   0   0   0   0\n",
      "    0   0]\n",
      " [  0   0   0   0 392   0   0   0   0   1   0   0   0   1   0   0   0   0\n",
      "    0   0]\n",
      " [  0   0   0   2   0 234   0   0   3   0   0   0   1   0   0   0   0   0\n",
      "    0   1]\n",
      " [  0   0   0   0   0   0 229   0   0   1   0   0   0   0   0   0   0   0\n",
      "    0   0]\n",
      " [  0   0   0   0   6   0   0 255   0   1   1   0   0   0   0   0   0   0\n",
      "    0   0]\n",
      " [  0   0   2   0   0   3   0   0 204   0   0   0   0   0   0   0   0   0\n",
      "    0   1]\n",
      " [  0   0   0   0   0   0   2   1   0 255   0   0   0   1   0   0   0   0\n",
      "    0   0]\n",
      " [  0   0   0   1   0   0   0   0   0   0 313   0   0   0   0   0   0   0\n",
      "    0   0]\n",
      " [  0   0   0   0   0   0   0   0   0   0   0 754   0   0   0   0   0   0\n",
      "    0   0]\n",
      " [  0   1   3   0   0  29   0   0   0  11   0   1 173   0   0   0   0   0\n",
      "    0   0]\n",
      " [  0   0   0   0   6   0   0   0   0   1   0   1   0 246   0   0   0   0\n",
      "    0   0]\n",
      " [  0   0  41   0   0 210   0   0   0   0   0   0  19   0 124   0   0   0\n",
      "    0  11]\n",
      " [  0   0   0   0   0   0   5   0   0   1   1   0   1   0   0 199   0   0\n",
      "   63   0]\n",
      " [  0   0   0   0   0   0   0   0   0   0   0   0   0   0   0   0 616   0\n",
      "    0   0]\n",
      " [  0   0   0   0   0   0   0   0   0   2   0   2   0   0   0   1   0 199\n",
      "    1   0]\n",
      " [  0   0   0   0   0   0   0   0   0   0   0   0   0   0   0   0   0   0\n",
      "  227   0]\n",
      " [  0   0   6   3   0  10   0   0   0   0   0   1   2   0   0   0   0   0\n",
      "    3 282]]\n",
      "              precision    recall  f1-score   support\n",
      "\n",
      "           0       1.00      0.99      0.99       197\n",
      "           1       0.99      0.86      0.92       228\n",
      "           2       0.80      0.61      0.69       342\n",
      "           3       0.97      1.00      0.98       252\n",
      "           4       0.97      0.99      0.98       394\n",
      "           5       0.48      0.97      0.64       241\n",
      "           6       0.97      1.00      0.98       230\n",
      "           7       1.00      0.97      0.98       263\n",
      "           8       0.99      0.97      0.98       210\n",
      "           9       0.84      0.98      0.90       259\n",
      "          10       0.99      1.00      1.00       314\n",
      "          11       0.99      1.00      1.00       754\n",
      "          12       0.87      0.79      0.83       218\n",
      "          13       0.99      0.97      0.98       254\n",
      "          14       1.00      0.31      0.47       405\n",
      "          15       0.99      0.74      0.85       270\n",
      "          16       1.00      1.00      1.00       616\n",
      "          17       1.00      0.97      0.99       205\n",
      "          18       0.77      1.00      0.87       227\n",
      "          19       0.67      0.92      0.77       307\n",
      "\n",
      "    accuracy                           0.90      6186\n",
      "   macro avg       0.91      0.90      0.89      6186\n",
      "weighted avg       0.93      0.90      0.89      6186\n",
      "\n"
     ]
    }
   ],
   "source": [
    "import numpy as np\n",
    "\n",
    "# Convert probabilities to class labels\n",
    "y_pred_labels = np.argmax(y_pred, axis=1)\n",
    "\n",
    "# Now you can compute the confusion matrix\n",
    "print(confusion_matrix(y_test, y_pred_labels))\n",
    "print(classification_report(y_test,y_pred_labels))"
   ]
  },
  {
   "cell_type": "code",
   "execution_count": 30,
   "id": "1db0d9c1",
   "metadata": {},
   "outputs": [
    {
     "ename": "NameError",
     "evalue": "name 'plt' is not defined",
     "output_type": "error",
     "traceback": [
      "\u001b[1;31m---------------------------------------------------------------------------\u001b[0m",
      "\u001b[1;31mNameError\u001b[0m                                 Traceback (most recent call last)",
      "Cell \u001b[1;32mIn[30], line 4\u001b[0m\n\u001b[0;32m      1\u001b[0m conf_matrix_percent \u001b[38;5;241m=\u001b[39m confusion_matrix(y_test, y_pred_labels)\u001b[38;5;241m.\u001b[39mastype(\u001b[38;5;124m'\u001b[39m\u001b[38;5;124mfloat\u001b[39m\u001b[38;5;124m'\u001b[39m) \u001b[38;5;241m/\u001b[39m confusion_matrix(y_test, y_pred_labels)\u001b[38;5;241m.\u001b[39msum(axis\u001b[38;5;241m=\u001b[39m\u001b[38;5;241m1\u001b[39m)[:, np\u001b[38;5;241m.\u001b[39mnewaxis] \u001b[38;5;241m*\u001b[39m \u001b[38;5;241m100\u001b[39m\n\u001b[0;32m      3\u001b[0m \u001b[38;5;66;03m# Plotting the heatmap\u001b[39;00m\n\u001b[1;32m----> 4\u001b[0m plt\u001b[38;5;241m.\u001b[39mfigure(figsize\u001b[38;5;241m=\u001b[39m(\u001b[38;5;241m15\u001b[39m, \u001b[38;5;241m8\u001b[39m))\n\u001b[0;32m      5\u001b[0m sns\u001b[38;5;241m.\u001b[39mheatmap(conf_matrix_percent, annot\u001b[38;5;241m=\u001b[39m\u001b[38;5;28;01mTrue\u001b[39;00m, fmt\u001b[38;5;241m=\u001b[39m\u001b[38;5;124m\"\u001b[39m\u001b[38;5;124m.1f\u001b[39m\u001b[38;5;124m\"\u001b[39m, cmap\u001b[38;5;241m=\u001b[39m\u001b[38;5;124m'\u001b[39m\u001b[38;5;124mBlues\u001b[39m\u001b[38;5;124m'\u001b[39m)\n\u001b[0;32m      6\u001b[0m plt\u001b[38;5;241m.\u001b[39mtitle(\u001b[38;5;124m'\u001b[39m\u001b[38;5;124mConfusion Matrix (\u001b[39m\u001b[38;5;124m%\u001b[39m\u001b[38;5;124m)\u001b[39m\u001b[38;5;124m'\u001b[39m)\n",
      "\u001b[1;31mNameError\u001b[0m: name 'plt' is not defined"
     ]
    }
   ],
   "source": [
    "conf_matrix_percent = confusion_matrix(y_test, y_pred_labels).astype('float') / confusion_matrix(y_test, y_pred_labels).sum(axis=1)[:, np.newaxis] * 100\n",
    "\n",
    "# Plotting the heatmap\n",
    "plt.figure(figsize=(15, 8))\n",
    "sns.heatmap(conf_matrix_percent, annot=True, fmt=\".1f\", cmap='Blues')\n",
    "plt.title('Confusion Matrix (%)')\n",
    "plt.xlabel('Predicted Label')\n",
    "plt.ylabel('True Label')\n",
    "\n",
    "plt.savefig(\"confusion_matrix.png\")\n",
    "plt.show()"
   ]
  },
  {
   "cell_type": "code",
   "execution_count": null,
   "id": "99fed45c",
   "metadata": {},
   "outputs": [],
   "source": []
  },
  {
   "cell_type": "code",
   "execution_count": 45,
   "id": "77a66c39",
   "metadata": {},
   "outputs": [],
   "source": [
    "model = tf.keras.models.load_model(model_save_path)"
   ]
  },
  {
   "cell_type": "code",
   "execution_count": 32,
   "id": "692c6ea7",
   "metadata": {},
   "outputs": [
    {
     "name": "stdout",
     "output_type": "stream",
     "text": [
      "1/1 [==============================] - 0s 252ms/step\n"
     ]
    },
    {
     "data": {
      "text/plain": [
       "array([[2.1240136e-10, 2.9071391e-04, 9.3144217e-06, 2.3792597e-13,\n",
       "        3.0540102e-04, 1.7786574e-07, 5.0947557e-07, 2.6529080e-03,\n",
       "        1.1970455e-08, 3.3870287e-02, 4.2070081e-08, 7.0192940e-03,\n",
       "        7.7892584e-03, 5.4391523e-07, 1.2519678e-06, 5.1361176e-06,\n",
       "        1.1780304e-05, 9.4803637e-01, 5.9093913e-06, 1.0982277e-06]],\n",
       "      dtype=float32)"
      ]
     },
     "execution_count": 32,
     "metadata": {},
     "output_type": "execute_result"
    }
   ],
   "source": [
    "model.predict([[0.0,0.0,0.0531914893617021,-0.175531914893617,0.0319148936170212,-0.3936170212765957,-0.0372340425531914,-0.5531914893617021,-0.1223404255319148,-0.6595744680851063,0.101063829787234,-0.526595744680851,0.0159574468085106,-0.7606382978723404,-0.0212765957446808,-0.8936170212765957,-0.0531914893617021,-1.0,0.0212765957446808,-0.4946808510638298,-0.1489361702127659,-0.6702127659574468,-0.1914893617021276,-0.6436170212765957,-0.1808510638297872,-0.6063829787234043,-0.0797872340425532,-0.4414893617021276,-0.2340425531914893,-0.5691489361702128,-0.2393617021276596,-0.5106382978723404,-0.202127659574468,-0.4574468085106383,-0.1968085106382978,-0.3829787234042553,-0.2765957446808511,-0.4946808510638298,-0.2712765957446808,-0.4414893617021276,-0.2340425531914893,-0.3882978723404255\n",
    "]])"
   ]
  },
  {
   "cell_type": "code",
   "execution_count": 33,
   "id": "c8052cb6",
   "metadata": {},
   "outputs": [
    {
     "name": "stdout",
     "output_type": "stream",
     "text": [
      "1/1 [==============================] - 0s 95ms/step\n",
      "[2.1240136e-10 2.9071391e-04 9.3144217e-06 2.3792597e-13 3.0540102e-04\n",
      " 1.7786574e-07 5.0947557e-07 2.6529080e-03 1.1970455e-08 3.3870287e-02\n",
      " 4.2070081e-08 7.0192940e-03 7.7892584e-03 5.4391523e-07 1.2519678e-06\n",
      " 5.1361176e-06 1.1780304e-05 9.4803637e-01 5.9093913e-06 1.0982277e-06]\n",
      "17\n"
     ]
    }
   ],
   "source": [
    "predict_result = model.predict([[0.0,0.0,0.0531914893617021,-0.175531914893617,0.0319148936170212,-0.3936170212765957,-0.0372340425531914,-0.5531914893617021,-0.1223404255319148,-0.6595744680851063,0.101063829787234,-0.526595744680851,0.0159574468085106,-0.7606382978723404,-0.0212765957446808,-0.8936170212765957,-0.0531914893617021,-1.0,0.0212765957446808,-0.4946808510638298,-0.1489361702127659,-0.6702127659574468,-0.1914893617021276,-0.6436170212765957,-0.1808510638297872,-0.6063829787234043,-0.0797872340425532,-0.4414893617021276,-0.2340425531914893,-0.5691489361702128,-0.2393617021276596,-0.5106382978723404,-0.202127659574468,-0.4574468085106383,-0.1968085106382978,-0.3829787234042553,-0.2765957446808511,-0.4946808510638298,-0.2712765957446808,-0.4414893617021276,-0.2340425531914893,-0.3882978723404255\n",
    "]])\n",
    "print(np.squeeze(predict_result))\n",
    "print(np.argmax(np.squeeze(predict_result)))"
   ]
  },
  {
   "cell_type": "code",
   "execution_count": null,
   "id": "8120ee2f",
   "metadata": {},
   "outputs": [],
   "source": []
  },
  {
   "cell_type": "code",
   "execution_count": null,
   "id": "ef06cb80",
   "metadata": {},
   "outputs": [],
   "source": []
  },
  {
   "cell_type": "code",
   "execution_count": null,
   "id": "60d08dcc",
   "metadata": {},
   "outputs": [],
   "source": []
  },
  {
   "cell_type": "code",
   "execution_count": null,
   "id": "346dfec4",
   "metadata": {},
   "outputs": [],
   "source": []
  },
  {
   "cell_type": "code",
   "execution_count": null,
   "id": "0951e88c",
   "metadata": {},
   "outputs": [],
   "source": []
  },
  {
   "cell_type": "code",
   "execution_count": null,
   "id": "970e1e1e",
   "metadata": {},
   "outputs": [],
   "source": []
  },
  {
   "cell_type": "code",
   "execution_count": null,
   "id": "aa449391",
   "metadata": {},
   "outputs": [],
   "source": []
  },
  {
   "cell_type": "code",
   "execution_count": 68,
   "id": "7ab49e3d",
   "metadata": {
    "scrolled": true
   },
   "outputs": [
    {
     "name": "stderr",
     "output_type": "stream",
     "text": [
      "C:\\Users\\hp\\anaconda3\\Lib\\site-packages\\keras\\src\\engine\\training.py:3103: UserWarning: You are saving your model as an HDF5 file via `model.save()`. This file format is considered legacy. We recommend using instead the native Keras format, e.g. `model.save('my_model.keras')`.\n",
      "  saving_api.save_model(\n"
     ]
    }
   ],
   "source": [
    "model.save(\"ann_model_91.h5\")"
   ]
  },
  {
   "cell_type": "code",
   "execution_count": 69,
   "id": "d3743528",
   "metadata": {},
   "outputs": [],
   "source": [
    "import pickle\n",
    "\n",
    "with open(\"ann_model_91.pkl\", \"wb\") as f:\n",
    "    pickle.dump(model, f)"
   ]
  },
  {
   "cell_type": "code",
   "execution_count": 70,
   "id": "39578497",
   "metadata": {},
   "outputs": [],
   "source": [
    "with open(\"ann_model_91.pkl\", \"rb\") as f:\n",
    "    model = pickle.load(f)"
   ]
  },
  {
   "cell_type": "code",
   "execution_count": 37,
   "id": "0758827b",
   "metadata": {},
   "outputs": [
    {
     "name": "stdout",
     "output_type": "stream",
     "text": [
      "1/1 [==============================] - 0s 238ms/step\n"
     ]
    }
   ],
   "source": [
    "\n",
    "\n",
    "predictions = np.argmax(np.squeeze(model.predict([[0.0,0.0,0.0531914893617021,-0.175531914893617,0.0319148936170212,-0.3936170212765957,-0.0372340425531914,-0.5531914893617021,-0.1223404255319148,-0.6595744680851063,0.101063829787234,-0.526595744680851,0.0159574468085106,-0.7606382978723404,-0.0212765957446808,-0.8936170212765957,-0.0531914893617021,-1.0,0.0212765957446808,-0.4946808510638298,-0.1489361702127659,-0.6702127659574468,-0.1914893617021276,-0.6436170212765957,-0.1808510638297872,-0.6063829787234043,-0.0797872340425532,-0.4414893617021276,-0.2340425531914893,-0.5691489361702128,-0.2393617021276596,-0.5106382978723404,-0.202127659574468,-0.4574468085106383,-0.1968085106382978,-0.3829787234042553,-0.2765957446808511,-0.4946808510638298,-0.2712765957446808,-0.4414893617021276,-0.2340425531914893,-0.3882978723404255\n",
    "]])))"
   ]
  },
  {
   "cell_type": "code",
   "execution_count": 38,
   "id": "87f03833",
   "metadata": {},
   "outputs": [
    {
     "name": "stdout",
     "output_type": "stream",
     "text": [
      "17\n"
     ]
    }
   ],
   "source": [
    "print(predictions)"
   ]
  },
  {
   "cell_type": "code",
   "execution_count": null,
   "id": "507e46c4",
   "metadata": {},
   "outputs": [],
   "source": []
  },
  {
   "cell_type": "code",
   "execution_count": null,
   "id": "5d67f698",
   "metadata": {},
   "outputs": [],
   "source": []
  }
 ],
 "metadata": {
  "kernelspec": {
   "display_name": "Python 3 (ipykernel)",
   "language": "python",
   "name": "python3"
  },
  "language_info": {
   "codemirror_mode": {
    "name": "ipython",
    "version": 3
   },
   "file_extension": ".py",
   "mimetype": "text/x-python",
   "name": "python",
   "nbconvert_exporter": "python",
   "pygments_lexer": "ipython3",
   "version": "3.11.5"
  }
 },
 "nbformat": 4,
 "nbformat_minor": 5
}
